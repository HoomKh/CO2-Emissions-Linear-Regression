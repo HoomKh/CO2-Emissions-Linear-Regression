{
 "cells": [
  {
   "cell_type": "markdown",
   "id": "d3762879-2763-4f5e-85e9-87369c87064a",
   "metadata": {},
   "source": [
    "<div style=\"text-align: center;\">\n",
    "    <img src=\"images/banner.jpg\" style=\"width:6500px;height:450px;\">\n",
    "</div>\n",
    "\n",
    "# **CO2 Emissions Prediction Using Python**\n",
    "\n",
    "This project focuses on developing a model to predict CO2 emissions based on engine size using Python. The dataset used is `FuelConsumption.csv`, which contains features like engine size and CO2 emissions. The workflow begins by importing essential libraries, including numpy, pandas, and matplotlib, for data manipulation and visualization.\n",
    "\n",
    "The data is loaded and initially explored through descriptive statistics to understand its structure and key metrics. Key features, specifically `ENGINESIZE` and `CO2EMISSIONS`, are selected for analysis. A scatter plot is created to visualize the relationship between these variables.\n",
    "\n",
    "The dataset is split into training and testing sets to evaluate the model's performance. Z-score normalization is applied to standardize the data, making the features comparable. Another scatter plot of normalized data ensures that the normalization process is correctly implemented.\n",
    "\n",
    "A cost function is defined to measure the prediction error, followed by calculating gradients necessary for the optimization process. The gradient descent algorithm is employed to minimize the cost function iteratively, updating the model's parameters. Training the model involves multiple iterations, tracking the cost reduction over time.\n",
    "\n",
    "The results are plotted to visualize the cost function's behavior and the regression line fitted to the normalized data. The model's parameters are then de-normalized to apply the predictions to the original data scale. A prediction function is defined, allowing the model to make predictions on new data points.\n",
    "\n",
    "Random samples from the test data are selected to demonstrate the model's prediction accuracy. The predictions are printed alongside actual values, showcasing the model's effectiveness in predicting CO2 emissions based on engine size."
   ]
  },
  {
   "cell_type": "markdown",
   "id": "3af9204a-c27b-41b1-8e64-ced72a6b700a",
   "metadata": {
    "jp-MarkdownHeadingCollapsed": true
   },
   "source": [
    "## 1. Import Packages\n",
    "\n",
    "<div style=\"text-align: center;\">\n",
    "    <img src=\"images/import.jpg\" style=\"width:600px;height:450px;\">\n",
    "</div>\n",
    "\n",
    "\n",
    "This block imports essential libraries required for data analysis and visualization: math for mathematical functions, numpy for numerical operations, pandas for data manipulation, and matplotlib for plotting."
   ]
  },
  {
   "cell_type": "code",
   "execution_count": 151,
   "id": "5b116232-c713-456a-ad1f-fdd7b51dbd29",
   "metadata": {},
   "outputs": [],
   "source": [
    "# !pip install pandas , numpy, matplotlib\n",
    "import math\n",
    "import numpy as np\n",
    "import pandas as pd\n",
    "from matplotlib import pyplot as plt"
   ]
  },
  {
   "cell_type": "markdown",
   "id": "88db44fd-8990-44d4-b90b-266b99e47fcc",
   "metadata": {},
   "source": [
    "## 2. Data Set"
   ]
  },
  {
   "cell_type": "markdown",
   "id": "13883ce7-33a9-4893-bc56-ac4ca852a638",
   "metadata": {
    "jp-MarkdownHeadingCollapsed": true
   },
   "source": [
    "#### 2.1 Import Data Set\n",
    "<div style=\"text-align: center;\">\n",
    "    <img src=\"images/load.jpg\" style=\"width:600px;height:450px;\">\n",
    "</div>\n",
    "\n",
    "This block loads the dataset *FuelConsumption.csv* into a DataFrame and displays the first few rows to understand the structure and content of the data."
   ]
  },
  {
   "cell_type": "code",
   "execution_count": 152,
   "id": "f28e3030-b260-4b1d-bc11-ce86d462e4ab",
   "metadata": {},
   "outputs": [
    {
     "data": {
      "text/html": [
       "<div>\n",
       "<style scoped>\n",
       "    .dataframe tbody tr th:only-of-type {\n",
       "        vertical-align: middle;\n",
       "    }\n",
       "\n",
       "    .dataframe tbody tr th {\n",
       "        vertical-align: top;\n",
       "    }\n",
       "\n",
       "    .dataframe thead th {\n",
       "        text-align: right;\n",
       "    }\n",
       "</style>\n",
       "<table border=\"1\" class=\"dataframe\">\n",
       "  <thead>\n",
       "    <tr style=\"text-align: right;\">\n",
       "      <th></th>\n",
       "      <th>MODELYEAR</th>\n",
       "      <th>MAKE</th>\n",
       "      <th>MODEL</th>\n",
       "      <th>VEHICLECLASS</th>\n",
       "      <th>ENGINESIZE</th>\n",
       "      <th>CYLINDERS</th>\n",
       "      <th>TRANSMISSION</th>\n",
       "      <th>FUELTYPE</th>\n",
       "      <th>FUELCONSUMPTION_CITY</th>\n",
       "      <th>FUELCONSUMPTION_HWY</th>\n",
       "      <th>FUELCONSUMPTION_COMB</th>\n",
       "      <th>FUELCONSUMPTION_COMB_MPG</th>\n",
       "      <th>CO2EMISSIONS</th>\n",
       "    </tr>\n",
       "  </thead>\n",
       "  <tbody>\n",
       "    <tr>\n",
       "      <th>0</th>\n",
       "      <td>2014</td>\n",
       "      <td>ACURA</td>\n",
       "      <td>ILX</td>\n",
       "      <td>COMPACT</td>\n",
       "      <td>2.0</td>\n",
       "      <td>4</td>\n",
       "      <td>AS5</td>\n",
       "      <td>Z</td>\n",
       "      <td>9.9</td>\n",
       "      <td>6.7</td>\n",
       "      <td>8.5</td>\n",
       "      <td>33</td>\n",
       "      <td>196</td>\n",
       "    </tr>\n",
       "    <tr>\n",
       "      <th>1</th>\n",
       "      <td>2014</td>\n",
       "      <td>ACURA</td>\n",
       "      <td>ILX</td>\n",
       "      <td>COMPACT</td>\n",
       "      <td>2.4</td>\n",
       "      <td>4</td>\n",
       "      <td>M6</td>\n",
       "      <td>Z</td>\n",
       "      <td>11.2</td>\n",
       "      <td>7.7</td>\n",
       "      <td>9.6</td>\n",
       "      <td>29</td>\n",
       "      <td>221</td>\n",
       "    </tr>\n",
       "    <tr>\n",
       "      <th>2</th>\n",
       "      <td>2014</td>\n",
       "      <td>ACURA</td>\n",
       "      <td>ILX HYBRID</td>\n",
       "      <td>COMPACT</td>\n",
       "      <td>1.5</td>\n",
       "      <td>4</td>\n",
       "      <td>AV7</td>\n",
       "      <td>Z</td>\n",
       "      <td>6.0</td>\n",
       "      <td>5.8</td>\n",
       "      <td>5.9</td>\n",
       "      <td>48</td>\n",
       "      <td>136</td>\n",
       "    </tr>\n",
       "    <tr>\n",
       "      <th>3</th>\n",
       "      <td>2014</td>\n",
       "      <td>ACURA</td>\n",
       "      <td>MDX 4WD</td>\n",
       "      <td>SUV - SMALL</td>\n",
       "      <td>3.5</td>\n",
       "      <td>6</td>\n",
       "      <td>AS6</td>\n",
       "      <td>Z</td>\n",
       "      <td>12.7</td>\n",
       "      <td>9.1</td>\n",
       "      <td>11.1</td>\n",
       "      <td>25</td>\n",
       "      <td>255</td>\n",
       "    </tr>\n",
       "    <tr>\n",
       "      <th>4</th>\n",
       "      <td>2014</td>\n",
       "      <td>ACURA</td>\n",
       "      <td>RDX AWD</td>\n",
       "      <td>SUV - SMALL</td>\n",
       "      <td>3.5</td>\n",
       "      <td>6</td>\n",
       "      <td>AS6</td>\n",
       "      <td>Z</td>\n",
       "      <td>12.1</td>\n",
       "      <td>8.7</td>\n",
       "      <td>10.6</td>\n",
       "      <td>27</td>\n",
       "      <td>244</td>\n",
       "    </tr>\n",
       "  </tbody>\n",
       "</table>\n",
       "</div>"
      ],
      "text/plain": [
       "   MODELYEAR   MAKE       MODEL VEHICLECLASS  ENGINESIZE  CYLINDERS  \\\n",
       "0       2014  ACURA         ILX      COMPACT         2.0          4   \n",
       "1       2014  ACURA         ILX      COMPACT         2.4          4   \n",
       "2       2014  ACURA  ILX HYBRID      COMPACT         1.5          4   \n",
       "3       2014  ACURA     MDX 4WD  SUV - SMALL         3.5          6   \n",
       "4       2014  ACURA     RDX AWD  SUV - SMALL         3.5          6   \n",
       "\n",
       "  TRANSMISSION FUELTYPE  FUELCONSUMPTION_CITY  FUELCONSUMPTION_HWY  \\\n",
       "0          AS5        Z                   9.9                  6.7   \n",
       "1           M6        Z                  11.2                  7.7   \n",
       "2          AV7        Z                   6.0                  5.8   \n",
       "3          AS6        Z                  12.7                  9.1   \n",
       "4          AS6        Z                  12.1                  8.7   \n",
       "\n",
       "   FUELCONSUMPTION_COMB  FUELCONSUMPTION_COMB_MPG  CO2EMISSIONS  \n",
       "0                   8.5                        33           196  \n",
       "1                   9.6                        29           221  \n",
       "2                   5.9                        48           136  \n",
       "3                  11.1                        25           255  \n",
       "4                  10.6                        27           244  "
      ]
     },
     "execution_count": 152,
     "metadata": {},
     "output_type": "execute_result"
    }
   ],
   "source": [
    "df = pd.read_csv('FuelConsumption.csv')\n",
    "df.head()"
   ]
  },
  {
   "cell_type": "markdown",
   "id": "93238e4a-8aa4-4332-9a89-3bc393cd2542",
   "metadata": {
    "jp-MarkdownHeadingCollapsed": true
   },
   "source": [
    "#### 2.2 Descriptive Statistics\n",
    "<div style=\"text-align: center;\">\n",
    "    <img src=\"images/descriptive.jpg\" style=\"width:600px;height:450px;\">\n",
    "</div>\n",
    "This block generates summary statistics of the DataFrame, providing insights into the distribution and central tendencies of the data."
   ]
  },
  {
   "cell_type": "code",
   "execution_count": 153,
   "id": "7e023955-5a92-46a6-8825-e29bd78b4c6f",
   "metadata": {},
   "outputs": [
    {
     "data": {
      "text/html": [
       "<div>\n",
       "<style scoped>\n",
       "    .dataframe tbody tr th:only-of-type {\n",
       "        vertical-align: middle;\n",
       "    }\n",
       "\n",
       "    .dataframe tbody tr th {\n",
       "        vertical-align: top;\n",
       "    }\n",
       "\n",
       "    .dataframe thead th {\n",
       "        text-align: right;\n",
       "    }\n",
       "</style>\n",
       "<table border=\"1\" class=\"dataframe\">\n",
       "  <thead>\n",
       "    <tr style=\"text-align: right;\">\n",
       "      <th></th>\n",
       "      <th>MODELYEAR</th>\n",
       "      <th>ENGINESIZE</th>\n",
       "      <th>CYLINDERS</th>\n",
       "      <th>FUELCONSUMPTION_CITY</th>\n",
       "      <th>FUELCONSUMPTION_HWY</th>\n",
       "      <th>FUELCONSUMPTION_COMB</th>\n",
       "      <th>FUELCONSUMPTION_COMB_MPG</th>\n",
       "      <th>CO2EMISSIONS</th>\n",
       "    </tr>\n",
       "  </thead>\n",
       "  <tbody>\n",
       "    <tr>\n",
       "      <th>count</th>\n",
       "      <td>1067.0</td>\n",
       "      <td>1067.000000</td>\n",
       "      <td>1067.000000</td>\n",
       "      <td>1067.000000</td>\n",
       "      <td>1067.000000</td>\n",
       "      <td>1067.000000</td>\n",
       "      <td>1067.000000</td>\n",
       "      <td>1067.000000</td>\n",
       "    </tr>\n",
       "    <tr>\n",
       "      <th>mean</th>\n",
       "      <td>2014.0</td>\n",
       "      <td>3.346298</td>\n",
       "      <td>5.794752</td>\n",
       "      <td>13.296532</td>\n",
       "      <td>9.474602</td>\n",
       "      <td>11.580881</td>\n",
       "      <td>26.441425</td>\n",
       "      <td>256.228679</td>\n",
       "    </tr>\n",
       "    <tr>\n",
       "      <th>std</th>\n",
       "      <td>0.0</td>\n",
       "      <td>1.415895</td>\n",
       "      <td>1.797447</td>\n",
       "      <td>4.101253</td>\n",
       "      <td>2.794510</td>\n",
       "      <td>3.485595</td>\n",
       "      <td>7.468702</td>\n",
       "      <td>63.372304</td>\n",
       "    </tr>\n",
       "    <tr>\n",
       "      <th>min</th>\n",
       "      <td>2014.0</td>\n",
       "      <td>1.000000</td>\n",
       "      <td>3.000000</td>\n",
       "      <td>4.600000</td>\n",
       "      <td>4.900000</td>\n",
       "      <td>4.700000</td>\n",
       "      <td>11.000000</td>\n",
       "      <td>108.000000</td>\n",
       "    </tr>\n",
       "    <tr>\n",
       "      <th>25%</th>\n",
       "      <td>2014.0</td>\n",
       "      <td>2.000000</td>\n",
       "      <td>4.000000</td>\n",
       "      <td>10.250000</td>\n",
       "      <td>7.500000</td>\n",
       "      <td>9.000000</td>\n",
       "      <td>21.000000</td>\n",
       "      <td>207.000000</td>\n",
       "    </tr>\n",
       "    <tr>\n",
       "      <th>50%</th>\n",
       "      <td>2014.0</td>\n",
       "      <td>3.400000</td>\n",
       "      <td>6.000000</td>\n",
       "      <td>12.600000</td>\n",
       "      <td>8.800000</td>\n",
       "      <td>10.900000</td>\n",
       "      <td>26.000000</td>\n",
       "      <td>251.000000</td>\n",
       "    </tr>\n",
       "    <tr>\n",
       "      <th>75%</th>\n",
       "      <td>2014.0</td>\n",
       "      <td>4.300000</td>\n",
       "      <td>8.000000</td>\n",
       "      <td>15.550000</td>\n",
       "      <td>10.850000</td>\n",
       "      <td>13.350000</td>\n",
       "      <td>31.000000</td>\n",
       "      <td>294.000000</td>\n",
       "    </tr>\n",
       "    <tr>\n",
       "      <th>max</th>\n",
       "      <td>2014.0</td>\n",
       "      <td>8.400000</td>\n",
       "      <td>12.000000</td>\n",
       "      <td>30.200000</td>\n",
       "      <td>20.500000</td>\n",
       "      <td>25.800000</td>\n",
       "      <td>60.000000</td>\n",
       "      <td>488.000000</td>\n",
       "    </tr>\n",
       "  </tbody>\n",
       "</table>\n",
       "</div>"
      ],
      "text/plain": [
       "       MODELYEAR   ENGINESIZE    CYLINDERS  FUELCONSUMPTION_CITY  \\\n",
       "count     1067.0  1067.000000  1067.000000           1067.000000   \n",
       "mean      2014.0     3.346298     5.794752             13.296532   \n",
       "std          0.0     1.415895     1.797447              4.101253   \n",
       "min       2014.0     1.000000     3.000000              4.600000   \n",
       "25%       2014.0     2.000000     4.000000             10.250000   \n",
       "50%       2014.0     3.400000     6.000000             12.600000   \n",
       "75%       2014.0     4.300000     8.000000             15.550000   \n",
       "max       2014.0     8.400000    12.000000             30.200000   \n",
       "\n",
       "       FUELCONSUMPTION_HWY  FUELCONSUMPTION_COMB  FUELCONSUMPTION_COMB_MPG  \\\n",
       "count          1067.000000           1067.000000               1067.000000   \n",
       "mean              9.474602             11.580881                 26.441425   \n",
       "std               2.794510              3.485595                  7.468702   \n",
       "min               4.900000              4.700000                 11.000000   \n",
       "25%               7.500000              9.000000                 21.000000   \n",
       "50%               8.800000             10.900000                 26.000000   \n",
       "75%              10.850000             13.350000                 31.000000   \n",
       "max              20.500000             25.800000                 60.000000   \n",
       "\n",
       "       CO2EMISSIONS  \n",
       "count   1067.000000  \n",
       "mean     256.228679  \n",
       "std       63.372304  \n",
       "min      108.000000  \n",
       "25%      207.000000  \n",
       "50%      251.000000  \n",
       "75%      294.000000  \n",
       "max      488.000000  "
      ]
     },
     "execution_count": 153,
     "metadata": {},
     "output_type": "execute_result"
    }
   ],
   "source": [
    "df.describe()"
   ]
  },
  {
   "cell_type": "markdown",
   "id": "5964a0fb-01a3-4f9a-a6f4-33fcc48d0f15",
   "metadata": {
    "jp-MarkdownHeadingCollapsed": true
   },
   "source": [
    "#### 2.3 Selecting Features\n",
    "<div style=\"text-align: center;\">\n",
    "    <img src=\"images/features.jpg\" style=\"width:600px;height:450px;\">\n",
    "</div>\n",
    "This block creates a new DataFrame with only the features *ENGINESIZE* and *CO2EMISSIONS*, focusing on the variables of interest for the analysis."
   ]
  },
  {
   "cell_type": "code",
   "execution_count": 154,
   "id": "60e0701e-804f-42bd-88ba-8501aeac070a",
   "metadata": {},
   "outputs": [
    {
     "data": {
      "text/html": [
       "<div>\n",
       "<style scoped>\n",
       "    .dataframe tbody tr th:only-of-type {\n",
       "        vertical-align: middle;\n",
       "    }\n",
       "\n",
       "    .dataframe tbody tr th {\n",
       "        vertical-align: top;\n",
       "    }\n",
       "\n",
       "    .dataframe thead th {\n",
       "        text-align: right;\n",
       "    }\n",
       "</style>\n",
       "<table border=\"1\" class=\"dataframe\">\n",
       "  <thead>\n",
       "    <tr style=\"text-align: right;\">\n",
       "      <th></th>\n",
       "      <th>ENGINESIZE</th>\n",
       "      <th>CO2EMISSIONS</th>\n",
       "    </tr>\n",
       "  </thead>\n",
       "  <tbody>\n",
       "    <tr>\n",
       "      <th>0</th>\n",
       "      <td>2.0</td>\n",
       "      <td>196</td>\n",
       "    </tr>\n",
       "    <tr>\n",
       "      <th>1</th>\n",
       "      <td>2.4</td>\n",
       "      <td>221</td>\n",
       "    </tr>\n",
       "    <tr>\n",
       "      <th>2</th>\n",
       "      <td>1.5</td>\n",
       "      <td>136</td>\n",
       "    </tr>\n",
       "    <tr>\n",
       "      <th>3</th>\n",
       "      <td>3.5</td>\n",
       "      <td>255</td>\n",
       "    </tr>\n",
       "    <tr>\n",
       "      <th>4</th>\n",
       "      <td>3.5</td>\n",
       "      <td>244</td>\n",
       "    </tr>\n",
       "  </tbody>\n",
       "</table>\n",
       "</div>"
      ],
      "text/plain": [
       "   ENGINESIZE  CO2EMISSIONS\n",
       "0         2.0           196\n",
       "1         2.4           221\n",
       "2         1.5           136\n",
       "3         3.5           255\n",
       "4         3.5           244"
      ]
     },
     "execution_count": 154,
     "metadata": {},
     "output_type": "execute_result"
    }
   ],
   "source": [
    "new_df = df[[\"ENGINESIZE\", \"CO2EMISSIONS\"]]\n",
    "new_df.head()"
   ]
  },
  {
   "cell_type": "markdown",
   "id": "053cbfb5-1310-4c2b-bf4a-208955ef1114",
   "metadata": {
    "jp-MarkdownHeadingCollapsed": true
   },
   "source": [
    "#### 2.4 Scatter Plot\n",
    "<div style=\"text-align: center;\">\n",
    "    <img src=\"images/plot.jpg\" style=\"width:600px;height:450px;\">\n",
    "</div>\n",
    "This block creates a scatter plot to visualize the relationship between engine size and CO2 emissions."
   ]
  },
  {
   "cell_type": "code",
   "execution_count": 155,
   "id": "51c23a8c-3898-4fda-8017-88ab103843de",
   "metadata": {},
   "outputs": [
    {
     "name": "stderr",
     "output_type": "stream",
     "text": [
      "No artists with labels found to put in legend.  Note that artists whose label start with an underscore are ignored when legend() is called with no argument.\n"
     ]
    },
    {
     "data": {
      "image/png": "[encoded data removed]",
      "text/plain": [
       "<Figure size 640x480 with 1 Axes>"
      ]
     },
     "metadata": {},
     "output_type": "display_data"
    }
   ],
   "source": [
    "plt.scatter(new_df[\"ENGINESIZE\"], new_df[\"CO2EMISSIONS\"], c = 'blue' )\n",
    "\n",
    "plt.title('Scatter Plot of ENGINESIZE VS CO2EMISSIONS')\n",
    "plt.xlabel('ENGINESIZE')\n",
    "plt.ylabel('CO2EMISSIONS')\n",
    "plt.legend()\n",
    "\n",
    "plt.show()"
   ]
  },
  {
   "cell_type": "markdown",
   "id": "5addafec-d04c-4ff5-b79b-8911fe8c3543",
   "metadata": {
    "jp-MarkdownHeadingCollapsed": true
   },
   "source": [
    "#### 2.5 Splitting Data into Training and Testing Sets\n",
    "<div style=\"text-align: center;\">\n",
    "    <img src=\"images/split.jpg\" style=\"width:600px;height:450px;\">\n",
    "</div>\n",
    "This block splits the dataset into training (70%) and testing (30%) sets for model evaluation."
   ]
  },
  {
   "cell_type": "code",
   "execution_count": 156,
   "id": "2448f96f-738c-472c-aaab-ebcb1594f428",
   "metadata": {},
   "outputs": [
    {
     "name": "stdout",
     "output_type": "stream",
     "text": [
      "X_train : [2.  2.4 1.5 3.5 3.5]\n",
      "Y_train : [196 221 136 255 244]\n",
      "X_test : [3.5 4.7 4.7 4.7 5.5]\n",
      "Y_test : [202 267 269 262 297]\n"
     ]
    }
   ],
   "source": [
    "X = new_df['ENGINESIZE'].to_numpy()\n",
    "y = new_df['CO2EMISSIONS'].to_numpy()\n",
    "\n",
    "split_index = int(0.7 * len(X))\n",
    "\n",
    "train_X = X[:split_index]\n",
    "test_X = X[split_index:]\n",
    "train_y = y[:split_index]\n",
    "test_y = y[split_index:]\n",
    "\n",
    "print(f\"X_train : {train_X[:5]}\")\n",
    "print(f\"Y_train : {train_y[:5]}\")\n",
    "print(f\"X_test : {test_X[:5]}\")\n",
    "print(f\"Y_test : {test_y[:5]}\")"
   ]
  },
  {
   "cell_type": "markdown",
   "id": "09618d96-cbef-4791-8d7f-441764b3eabc",
   "metadata": {
    "jp-MarkdownHeadingCollapsed": true
   },
   "source": [
    "#### 2.6 Z-score Normalization\n",
    "<div style=\"text-align: center;\">\n",
    "    <img src=\"images/z-score.jpg\" style=\"width:600px;height:450px;\">\n",
    "</div>\n",
    "This block defines and applies z-score normalization to standardize the training data."
   ]
  },
  {
   "cell_type": "code",
   "execution_count": 157,
   "id": "d80d7351-8e48-4c87-8897-ce797528a864",
   "metadata": {},
   "outputs": [],
   "source": [
    "def zscore_normalize_features(X):\n",
    "    mu = np.mean(X, axis = 0)\n",
    "    sigma = np.std(X, axis = 0)\n",
    "    x_norm = (X - mu) / sigma\n",
    "\n",
    "    return (x_norm, mu, sigma)"
   ]
  },
  {
   "cell_type": "markdown",
   "id": "77aeb459-cde8-4da5-84d8-e407a43c423e",
   "metadata": {
    "jp-MarkdownHeadingCollapsed": true
   },
   "source": [
    "#### 2.7 Normalized Scatter Plot\n",
    "<div style=\"text-align: center;\">\n",
    "    <img src=\"images/norm.jpg\" style=\"width:600px;height:450px;\">\n",
    "</div>\n",
    "This block creates a scatter plot of the normalized features."
   ]
  },
  {
   "cell_type": "code",
   "execution_count": 187,
   "id": "555c7aa9-7c4a-4eb6-b45a-67acd80bcd16",
   "metadata": {},
   "outputs": [],
   "source": [
    "X_norm_t, mu_X, sigma_X = zscore_normalize_features(train_X)\n",
    "y_norm_t, mu_y, sigma_y = zscore_normalize_features(train_y)"
   ]
  },
  {
   "cell_type": "code",
   "execution_count": 159,
   "id": "a018126b-6959-4c43-8902-924aedd32c6e",
   "metadata": {},
   "outputs": [
    {
     "name": "stderr",
     "output_type": "stream",
     "text": [
      "No artists with labels found to put in legend.  Note that artists whose label start with an underscore are ignored when legend() is called with no argument.\n"
     ]
    },
    {
     "data": {
      "image/png": "[encoded data removed]",
      "text/plain": [
       "<Figure size 640x480 with 1 Axes>"
      ]
     },
     "metadata": {},
     "output_type": "display_data"
    }
   ],
   "source": [
    "plt.scatter(X_norm_t, y_norm_t, c = \"blue\")\n",
    "\n",
    "plt.title('Normalize')\n",
    "plt.xlabel('ENGINESIZE - norm')\n",
    "plt.ylabel('CO2EMISSIONS - norm')\n",
    "plt.legend()\n",
    "\n",
    "plt.show()"
   ]
  },
  {
   "cell_type": "markdown",
   "id": "26c57eb8-9dcd-4c74-b539-f94826996427",
   "metadata": {},
   "source": [
    "## 3. Build Linear Regression Model"
   ]
  },
  {
   "cell_type": "markdown",
   "id": "1aeb8dff-5855-42e4-8591-2e98dc78f732",
   "metadata": {
    "jp-MarkdownHeadingCollapsed": true
   },
   "source": [
    "### 3.1 Compute Cost \n",
    "<div style=\"text-align: center;\">\n",
    "    <img src=\"images/cost.jpg\" style=\"width:600px;height:450px;\">\n",
    "</div>\n",
    "This block defines the cost function for linear regression."
   ]
  },
  {
   "cell_type": "code",
   "execution_count": 160,
   "id": "72a6974e-f343-43ed-8ebe-aed81c712e2a",
   "metadata": {},
   "outputs": [],
   "source": [
    "def compute_cost(X, y, w, b):\n",
    "    m = X.shape[0]\n",
    "    cost_sum = 0\n",
    "    for i in range(m):\n",
    "        f_wb = w * X[i] + b\n",
    "        cost_sum += np.square(f_wb - y[i])        \n",
    "    return (1 / (2*m)) * cost_sum"
   ]
  },
  {
   "cell_type": "markdown",
   "id": "d5097edd-b0e4-479c-a5e4-ad93ad117d22",
   "metadata": {
    "jp-MarkdownHeadingCollapsed": true
   },
   "source": [
    "### 3.2 Compute Gradient\n",
    "<div style=\"text-align: center;\">\n",
    "    <img src=\"images/gradient.jpg\" style=\"width:600px;height:450px;\">\n",
    "</div>\n",
    "This block defines the gradient calculation for the cost function."
   ]
  },
  {
   "cell_type": "code",
   "execution_count": 161,
   "id": "143c53c0-2497-4203-8921-4757926e3ef2",
   "metadata": {},
   "outputs": [],
   "source": [
    "def compute_gradient(X, y, w, b):\n",
    "    m = X.shape[0]\n",
    "    dj_dw = 0\n",
    "    dj_db = 0\n",
    "    for i in range(m):\n",
    "        f_wb = w * X[i] + b\n",
    "        dj_dw_i = (f_wb - y[i]) * X[i]\n",
    "        dj_db_i = (f_wb - y[i])\n",
    "        dj_dw += dj_dw_i\n",
    "        dj_db += dj_db_i\n",
    "    dj_dw = dj_dw / m\n",
    "    dj_db = dj_db / m\n",
    "    return dj_dw, dj_db"
   ]
  },
  {
   "cell_type": "markdown",
   "id": "d03767a9-aebb-489c-ad9f-35caeb4f934e",
   "metadata": {
    "jp-MarkdownHeadingCollapsed": true
   },
   "source": [
    "### 3.3 Gradient Descent\n",
    "<div style=\"text-align: center;\">\n",
    "    <img src=\"images/gradient descent.jpg\" style=\"width:600px;height:450px;\">\n",
    "</div>\n",
    "This block implements the gradient descent algorithm to optimize the parameters *w* and *b*."
   ]
  },
  {
   "cell_type": "code",
   "execution_count": 162,
   "id": "b4d5fa9c-230c-4024-bbc5-8141b91ccc94",
   "metadata": {},
   "outputs": [],
   "source": [
    "def gradient_descent(X, y, w_in, b_in, alpha, num_iteration, compute_cost, compute_gradient):\n",
    "\n",
    "    J_history = []\n",
    "    P_history = []\n",
    "    b = b_in\n",
    "    w = w_in\n",
    "\n",
    "    for i in range(num_iteration):\n",
    "\n",
    "        dj_dw, dj_db = compute_gradient(X, y, w, b)\n",
    "\n",
    "        w -=  alpha * dj_dw\n",
    "        b -= alpha * dj_db\n",
    "\n",
    "        if i<100000:      \n",
    "            J_history.append(compute_cost(X, y, w , b))\n",
    "            P_history.append([w,b])\n",
    "        \n",
    "        if i% math.ceil(num_iteration/10) == 0:\n",
    "            print(f\"Iteration {i:4}: Cost {J_history[-1]:0.2e} \",\n",
    "                  f\"dj_dw: {dj_dw: 0.3e}, dj_db: {dj_db: 0.3e}  \",\n",
    "                  f\"w: {w: 0.3e}, b:{b: 0.5e}\")\n",
    "    return w, b, J_history, P_history\n"
   ]
  },
  {
   "cell_type": "markdown",
   "id": "afcde882-f1b6-4f4b-859e-66c3b56edbc5",
   "metadata": {},
   "source": [
    "## 4. Train and Predict"
   ]
  },
  {
   "cell_type": "markdown",
   "id": "f78b50d3-79af-4f66-88a2-df1a2f2b9222",
   "metadata": {
    "jp-MarkdownHeadingCollapsed": true
   },
   "source": [
    "#### 4.1 Train a Model \n",
    "<div style=\"text-align: center;\">\n",
    "    <img src=\"images/train.jpg\" style=\"width:600px;height:450px;\">\n",
    "</div>\n",
    "This block initializes and trains the model using gradient descent."
   ]
  },
  {
   "cell_type": "code",
   "execution_count": 212,
   "id": "3b7184f9-ea59-4076-9b4f-ace5b9920ce3",
   "metadata": {},
   "outputs": [
    {
     "name": "stdout",
     "output_type": "stream",
     "text": [
      "Iteration    0: Cost 4.93e-01  dj_dw: -8.670e-01, dj_db: -9.525e-18   w:  8.670e-03, b: 9.52470e-20\n",
      "Iteration 10000: Cost 1.24e-01  dj_dw: -5.546e-15, dj_db: -3.378e-17   w:  8.670e-01, b:-1.11001e-16\n",
      "Iteration 20000: Cost 1.24e-01  dj_dw: -5.500e-15, dj_db:  3.468e-17   w:  8.670e-01, b:-1.11150e-16\n",
      "Iteration 30000: Cost 1.24e-01  dj_dw: -5.500e-15, dj_db:  3.468e-17   w:  8.670e-01, b:-1.11299e-16\n",
      "Iteration 40000: Cost 1.24e-01  dj_dw: -5.546e-15, dj_db: -3.378e-17   w:  8.670e-01, b:-1.10763e-16\n",
      "Iteration 50000: Cost 1.24e-01  dj_dw: -5.546e-15, dj_db: -3.378e-17   w:  8.670e-01, b:-1.10912e-16\n",
      "Iteration 60000: Cost 1.24e-01  dj_dw: -5.500e-15, dj_db:  3.468e-17   w:  8.670e-01, b:-1.11061e-16\n",
      "Iteration 70000: Cost 1.24e-01  dj_dw: -5.500e-15, dj_db:  3.468e-17   w:  8.670e-01, b:-1.11210e-16\n",
      "Iteration 80000: Cost 1.24e-01  dj_dw: -5.500e-15, dj_db:  3.468e-17   w:  8.670e-01, b:-1.11359e-16\n",
      "Iteration 90000: Cost 1.24e-01  dj_dw: -5.546e-15, dj_db: -3.378e-17   w:  8.670e-01, b:-1.10823e-16\n",
      "(w,b) found by gradient descent: (0.8669517468314388 , -1.1130953174383088e-16)\n"
     ]
    }
   ],
   "source": [
    "w_init = 0\n",
    "b_init = 0\n",
    "\n",
    "iterations = 100000\n",
    "tmp_alpha = 0.01 #0.08\n",
    "\n",
    "w_final, b_final, J_hist, p_hist = gradient_descent(X_norm_t, y_norm_t, w_init, b_init, tmp_alpha, iterations, compute_cost, compute_gradient)\n",
    "print(f\"(w,b) found by gradient descent: ({w_final} , {b_final})\")"
   ]
  },
  {
   "cell_type": "markdown",
   "id": "f1b658f3-d9f5-4ea1-aa62-83d9da138b31",
   "metadata": {
    "jp-MarkdownHeadingCollapsed": true
   },
   "source": [
    "#### 4.1 Plot The Cost Func & Y-hat Prediction\n",
    "<div style=\"text-align: center;\">\n",
    "    <img src=\"images/plot result.jpg\" style=\"width:600px;height:450px;\">\n",
    "</div>\n",
    "This block plots the cost function over iterations and the final linear regression model on the normalized data."
   ]
  },
  {
   "cell_type": "code",
   "execution_count": 213,
   "id": "d8c749d9-ecb9-4636-bc0f-669c793d2ea2",
   "metadata": {},
   "outputs": [
    {
     "data": {
      "image/png": "[encoded data removed]",
      "text/plain": [
       "<Figure size 1200x400 with 2 Axes>"
      ]
     },
     "metadata": {},
     "output_type": "display_data"
    }
   ],
   "source": [
    "fig, (ax1, ax2) = plt.subplots(1, 2, figsize=(12,4))\n",
    "\n",
    "ax1.plot(J_hist[:100])\n",
    "ax1.set_title('Cost vs. iteration')\n",
    "ax1.set_ylabel('Cost')             \n",
    "ax1.set_xlabel('iteration step') \n",
    "\n",
    "ax2.plot(X_norm_t, y_norm_t, 'o')\n",
    "yhat = w_final * X_norm_t + b_final\n",
    "ax2.plot(X_norm_t, yhat)\n",
    "ax2.set_title('Y-hat Prediction')\n",
    "ax2.set_xlabel('ENGINESIZE')\n",
    "ax2.set_ylabel('CO2EMISSIONS')\n",
    "\n",
    "plt.show()"
   ]
  },
  {
   "cell_type": "markdown",
   "id": "01871dfb-c5b0-4b41-8d4f-4cba92c75a88",
   "metadata": {
    "jp-MarkdownHeadingCollapsed": true
   },
   "source": [
    "#### 4.2 Prediction"
   ]
  },
  {
   "cell_type": "code",
   "execution_count": 214,
   "id": "bc726e31-013e-4ce2-ad43-7dc8cb1c5b18",
   "metadata": {},
   "outputs": [],
   "source": [
    "# De-normalizing Parameters\n",
    "w = w_final * (sigma_y / sigma_X)\n",
    "b = b_final * sigma_y + mu_y - np.sum((w_denorm * mu_X))"
   ]
  },
  {
   "cell_type": "code",
   "execution_count": 216,
   "id": "d7b6655a-7b0d-40bc-b6c5-33d0802318ee",
   "metadata": {},
   "outputs": [],
   "source": [
    "def predict(x):\n",
    "    predict = []\n",
    "    m = x.shape[0]\n",
    "    for i in range(m):\n",
    "        prediction_i = w * x[i] + b\n",
    "        predict.append(prediction_i)\n",
    "    return predict"
   ]
  },
  {
   "cell_type": "code",
   "execution_count": 217,
   "id": "7bd448b6-c06f-4b36-be94-2dd0c3642c7a",
   "metadata": {},
   "outputs": [],
   "source": [
    "def print_prediction(x, y):\n",
    "    for i in range(len(x)):\n",
    "        print(f'Y-hat of index {i} is : {x[i]} -- Y is : {y[i]}')"
   ]
  },
  {
   "cell_type": "code",
   "execution_count": 218,
   "id": "145543c4-d5a7-4490-81d4-db5b6db2d9b7",
   "metadata": {},
   "outputs": [
    {
     "name": "stdout",
     "output_type": "stream",
     "text": [
      "Selected test X: [3.6 3.5 1.5 2.5 6.6 1.8 1.8 1.6 3.6 4.7]\n",
      "\n",
      "Selected test Y: [281 189 163 175 359 170 177 196 313 278]\n",
      "\n",
      "Y-hat of index 0 is : 272.6450892070267 -- Y is : 281\n",
      "Y-hat of index 1 is : 268.7208050154178 -- Y is : 189\n",
      "Y-hat of index 2 is : 190.2351211832401 -- Y is : 163\n",
      "Y-hat of index 3 is : 229.47796309932895 -- Y is : 175\n",
      "Y-hat of index 4 is : 390.3736149552932 -- Y is : 359\n",
      "Y-hat of index 5 is : 202.00797375806675 -- Y is : 170\n",
      "Y-hat of index 6 is : 202.00797375806675 -- Y is : 177\n",
      "Y-hat of index 7 is : 194.15940537484897 -- Y is : 196\n",
      "Y-hat of index 8 is : 272.6450892070267 -- Y is : 313\n",
      "Y-hat of index 9 is : 315.8122153147244 -- Y is : 278\n"
     ]
    }
   ],
   "source": [
    "import random\n",
    "if len(test_X) != len(test_y):\n",
    "    raise ValueError(\"Both arrays must have the same length\")\n",
    "\n",
    "# Number of random items to select\n",
    "num_items = 10\n",
    "\n",
    "# Generate random indices without replacement\n",
    "random_indices = random.sample(range(len(test_X)), num_items)\n",
    "\n",
    "selected_test_x = np.asanyarray([test_X[i] for i in random_indices])\n",
    "selected_test_y = np.asanyarray([test_y[i] for i in random_indices])\n",
    "\n",
    "print(f'Selected test X: {selected_test_x}\\n')\n",
    "print(f'Selected test Y: {selected_test_y}\\n')\n",
    "\n",
    "prediction = predict(selected_test_x)\n",
    "\n",
    "print_prediction(prediction, selected_test_y)"
   ]
  },
  {
   "cell_type": "code",
   "execution_count": null,
   "id": "bea11677-7a56-4558-9575-ccb417e614c0",
   "metadata": {},
   "outputs": [],
   "source": []
  }
 ],
 "metadata": {
  "kernelspec": {
   "display_name": "Python 3 (ipykernel)",
   "language": "python",
   "name": "python3"
  },
  "language_info": {
   "codemirror_mode": {
    "name": "ipython",
    "version": 3
   },
   "file_extension": ".py",
   "mimetype": "text/x-python",
   "name": "python",
   "nbconvert_exporter": "python",
   "pygments_lexer": "ipython3",
   "version": "3.8.19"
  }
 },
 "nbformat": 4,
 "nbformat_minor": 5
}
